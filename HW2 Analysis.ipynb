{
 "cells": [
  {
   "cell_type": "code",
   "execution_count": 9,
   "id": "af1de938-71f7-4760-94c8-b97dca0abe58",
   "metadata": {},
   "outputs": [],
   "source": [
    "import pandas as pd # For retrieving and manipulating data\n",
    "\n",
    "import numpy as np\n"
   ]
  },
  {
   "cell_type": "code",
   "execution_count": 12,
   "id": "47bdb69b-7520-410d-adbb-e9a01d7140ce",
   "metadata": {},
   "outputs": [
    {
     "name": "stdout",
     "output_type": "stream",
     "text": [
      "           article_title  revision_id article_quality      Country  \\\n",
      "0        Shahjahan Noori   1099689043              GA  Afghanistan   \n",
      "1  Abdul Ghafar Lakanwal    943562276           Start  Afghanistan   \n",
      "2         Majah Ha Adrif    852404094           Start  Afghanistan   \n",
      "3      Haroon al-Afghani   1095102390               B  Afghanistan   \n",
      "4            Tayyab Agha   1104998382           Start  Afghanistan   \n",
      "\n",
      "       Region  Population  \n",
      "0  SOUTH ASIA        41.1  \n",
      "1  SOUTH ASIA        41.1  \n",
      "2  SOUTH ASIA        41.1  \n",
      "3  SOUTH ASIA        41.1  \n",
      "4  SOUTH ASIA        41.1  \n"
     ]
    }
   ],
   "source": [
    "dfPoliticians = pd.read_csv(\"wp_politicians_by_country.csv\", dtype={\"revision_id\":\"Int64\"})\n",
    "dfPoliticians = dfPoliticians.loc[:, ~dfPoliticians.columns.str.contains('^Unnamed')]\n",
    "print(dfPoliticians.head())"
   ]
  },
  {
   "cell_type": "code",
   "execution_count": null,
   "id": "9ed0240d-be63-4b14-8aee-d44e5fc04f9d",
   "metadata": {},
   "outputs": [],
   "source": []
  }
 ],
 "metadata": {
  "kernelspec": {
   "display_name": "Python 3 (ipykernel)",
   "language": "python",
   "name": "python3"
  },
  "language_info": {
   "codemirror_mode": {
    "name": "ipython",
    "version": 3
   },
   "file_extension": ".py",
   "mimetype": "text/x-python",
   "name": "python",
   "nbconvert_exporter": "python",
   "pygments_lexer": "ipython3",
   "version": "3.10.3"
  }
 },
 "nbformat": 4,
 "nbformat_minor": 5
}

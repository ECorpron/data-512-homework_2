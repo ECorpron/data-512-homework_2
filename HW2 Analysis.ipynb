{
 "cells": [
  {
   "cell_type": "code",
   "execution_count": 1,
   "id": "af1de938-71f7-4760-94c8-b97dca0abe58",
   "metadata": {},
   "outputs": [],
   "source": [
    "import pandas as pd # For retrieving and manipulating data\n",
    "\n",
    "import numpy as np\n"
   ]
  },
  {
   "cell_type": "code",
   "execution_count": 2,
   "id": "47bdb69b-7520-410d-adbb-e9a01d7140ce",
   "metadata": {},
   "outputs": [
    {
     "name": "stdout",
     "output_type": "stream",
     "text": [
      "           article_title  revision_id article_quality      Country  \\\n",
      "0        Shahjahan Noori   1099689043              GA  Afghanistan   \n",
      "1  Abdul Ghafar Lakanwal    943562276           Start  Afghanistan   \n",
      "2         Majah Ha Adrif    852404094           Start  Afghanistan   \n",
      "3      Haroon al-Afghani   1095102390               B  Afghanistan   \n",
      "4            Tayyab Agha   1104998382           Start  Afghanistan   \n",
      "\n",
      "       Region  Population  \n",
      "0  SOUTH ASIA        41.1  \n",
      "1  SOUTH ASIA        41.1  \n",
      "2  SOUTH ASIA        41.1  \n",
      "3  SOUTH ASIA        41.1  \n",
      "4  SOUTH ASIA        41.1  \n"
     ]
    }
   ],
   "source": [
    "dfPoliticians = pd.read_csv(\"wp_politicians_by_country.csv\", dtype={\"revision_id\":\"Int64\"})\n",
    "dfPoliticians = dfPoliticians.loc[:, ~dfPoliticians.columns.str.contains('^Unnamed')]\n",
    "print(dfPoliticians.head())"
   ]
  },
  {
   "cell_type": "code",
   "execution_count": 10,
   "id": "9ed0240d-be63-4b14-8aee-d44e5fc04f9d",
   "metadata": {},
   "outputs": [
    {
     "name": "stdout",
     "output_type": "stream",
     "text": [
      "   Country  Count\n",
      "0   France    251\n",
      "1  Nigeria    222\n",
      "2    India    179\n",
      "3   Russia    174\n",
      "4   Poland    168\n",
      "         article_title  revision_id article_quality      Country      Region  \\\n",
      "0      Shahjahan Noori   1099689043              GA  Afghanistan  SOUTH ASIA   \n",
      "55   Ahmed Wali Karzai   1090245979              GA  Afghanistan  SOUTH ASIA   \n",
      "59      Masoud Khalili   1103105365              GA  Afghanistan  SOUTH ASIA   \n",
      "93      Amrullah Saleh   1115022704              FA  Afghanistan  SOUTH ASIA   \n",
      "107   Nur ul-Haq Ulumi   1107429109              GA  Afghanistan  SOUTH ASIA   \n",
      "\n",
      "     Population  \n",
      "0          41.1  \n",
      "55         41.1  \n",
      "59         41.1  \n",
      "93         41.1  \n",
      "107        41.1  \n",
      "   Country  Article_Counts  Population          Region\n",
      "0   France             251        65.8  WESTERN EUROPE\n",
      "1  Nigeria             222       218.5  WESTERN AFRICA\n",
      "2    India             179      1417.2      SOUTH ASIA\n",
      "3   Russia             174       144.3  EASTERN EUROPE\n",
      "4   Poland             168        38.0  EASTERN EUROPE\n"
     ]
    }
   ],
   "source": [
    "countryCounts = dfPoliticians['Country'].value_counts().reset_index(name='Count').rename(columns={'index': 'Country', 'Count': 'Count'})\n",
    "print(countryCounts.head())\n",
    "index = countryCounts.Country\n",
    "countries = pd.DataFrame(countryCounts, columns=['Country', 'Article_Counts'])\n",
    "countries[\"Article_Counts\"] = countryCounts.Count\n",
    "\n",
    "highQuality = dfPoliticians[(dfPoliticians.article_quality == \"FA\") | (dfPoliticians.article_quality == \"GA\")]\n",
    "print(highQuality.head())\n",
    "\n",
    "countries[\"Population\"] = 0\n",
    "countries[\"Region\"] = \"\"\n",
    "\n",
    "for i in range(len(index)):\n",
    "    pop = dfPoliticians[dfPoliticians.Country == index[i]].iloc[0]\n",
    "    countries.loc[i, \"Population\"] = pop.Population\n",
    "    countries.loc[i, \"Region\"] = pop.Region\n",
    "countries = countries[countries.Population > 0.0]\n",
    "print(countries.head())"
   ]
  },
  {
   "cell_type": "code",
   "execution_count": 4,
   "id": "f4d93083-1d6a-48ec-a5c5-146bb6853d50",
   "metadata": {},
   "outputs": [],
   "source": [
    "highQuality = dfPoliticians[(dfPoliticians.article_quality == \"FA\") | (dfPoliticians.article_quality == \"GA\")]\n",
    "highQualityCounts = highQuality['Country'].value_counts().reset_index(name='Count').rename(columns={'index': 'Country', 'Count': 'Count'})\n",
    "\n",
    "countries[\"High_Quality_Articles\"] = 0\n",
    "\n",
    "for i in range(len(highQualityCounts)):\n",
    "    country = highQualityCounts.loc[i, \"Country\"]\n",
    "    countries.loc[countries.Country == country, \"High_Quality_Articles\"] = highQualityCounts.loc[i, \"Count\"]"
   ]
  },
  {
   "cell_type": "code",
   "execution_count": 5,
   "id": "e3ae3ace-b7ea-4911-879a-036efd14a182",
   "metadata": {},
   "outputs": [
    {
     "name": "stdout",
     "output_type": "stream",
     "text": [
      "   Country  Article_Counts  Population  High_Quality_Articles  \\\n",
      "0   France             251        65.8                     11   \n",
      "1  Nigeria             222       218.5                      4   \n",
      "2    India             179      1417.2                      6   \n",
      "3   Russia             174       144.3                     16   \n",
      "4   Poland             168        38.0                      7   \n",
      "\n",
      "   Article_Per_Capita  Quality_Articles_Per_Capita  \n",
      "0            3.814590                     0.167173  \n",
      "1            1.016018                     0.018307  \n",
      "2            0.126305                     0.004234  \n",
      "3            1.205821                     0.110880  \n",
      "4            4.421053                     0.184211  \n"
     ]
    }
   ],
   "source": [
    "countries[\"Article_Per_Capita\"] = countries.Article_Counts/countries.Population\n",
    "countries[\"Quality_Articles_Per_Capita\"] = countries.High_Quality_Articles/countries.Population\n",
    "print(countries.head())"
   ]
  },
  {
   "cell_type": "code",
   "execution_count": 6,
   "id": "0cb9b095-d50b-4b29-9e59-44f2b9c34d13",
   "metadata": {},
   "outputs": [
    {
     "name": "stdout",
     "output_type": "stream",
     "text": [
      "                            Country  Article_Counts  Population  \\\n",
      "118             Antigua and Barbuda              17         0.1   \n",
      "133  Federated States of Micronesia              13         0.1   \n",
      "149                         Andorra              10         0.1   \n",
      "89                         Barbados              28         0.3   \n",
      "150                Marshall Islands               9         0.1   \n",
      "73                       Montenegro              36         0.6   \n",
      "160                      Seychelles               6         0.1   \n",
      "69                       Luxembourg              37         0.7   \n",
      "63                           Bhutan              41         0.8   \n",
      "166                         Grenada               5         0.1   \n",
      "\n",
      "     High_Quality_Articles  Article_Per_Capita  Quality_Articles_Per_Capita  \n",
      "118                      0          170.000000                          0.0  \n",
      "133                      0          130.000000                          0.0  \n",
      "149                      2          100.000000                         20.0  \n",
      "89                       0           93.333333                          0.0  \n",
      "150                      0           90.000000                          0.0  \n",
      "73                       3           60.000000                          5.0  \n",
      "160                      0           60.000000                          0.0  \n",
      "69                       0           52.857143                          0.0  \n",
      "63                       0           51.250000                          0.0  \n",
      "166                      0           50.000000                          0.0  \n"
     ]
    }
   ],
   "source": [
    "print(countries.nlargest(10, \"Article_Per_Capita\",keep='first'))"
   ]
  },
  {
   "cell_type": "code",
   "execution_count": 7,
   "id": "35e60cb4-586e-4dc8-888f-1b2ff69cc06b",
   "metadata": {},
   "outputs": [
    {
     "name": "stdout",
     "output_type": "stream",
     "text": [
      "          Country  Article_Counts  Population  High_Quality_Articles  \\\n",
      "181         China               2      1436.6                      0   \n",
      "183        Mexico               1       127.5                      0   \n",
      "170  Saudi Arabia               3        36.7                      2   \n",
      "180       Romania               2        19.0                      2   \n",
      "2           India             179      1417.2                      6   \n",
      "174     Sri Lanka               3        22.4                      0   \n",
      "128         Egypt              14       103.5                      0   \n",
      "98       Ethiopia              25       123.4                      3   \n",
      "165        Taiwan               5        23.2                      0   \n",
      "94        Vietnam              27        99.4                      2   \n",
      "\n",
      "     Article_Per_Capita  Quality_Articles_Per_Capita  \n",
      "181            0.001392                     0.000000  \n",
      "183            0.007843                     0.000000  \n",
      "170            0.081744                     0.054496  \n",
      "180            0.105263                     0.105263  \n",
      "2              0.126305                     0.004234  \n",
      "174            0.133929                     0.000000  \n",
      "128            0.135266                     0.000000  \n",
      "98             0.202593                     0.024311  \n",
      "165            0.215517                     0.000000  \n",
      "94             0.271630                     0.020121  \n"
     ]
    }
   ],
   "source": [
    "print(countries.nsmallest(10, \"Article_Per_Capita\",keep='first'))"
   ]
  },
  {
   "cell_type": "code",
   "execution_count": 8,
   "id": "a62077cc-486a-462f-8ba4-5531ebf9e0b6",
   "metadata": {},
   "outputs": [
    {
     "name": "stdout",
     "output_type": "stream",
     "text": [
      "                   Country  Article_Counts  Population  High_Quality_Articles  \\\n",
      "149                Andorra              10         0.1                      2   \n",
      "73              Montenegro              36         0.6                      3   \n",
      "25                 Albania              83         2.8                      6   \n",
      "103               Suriname              23         0.6                      1   \n",
      "50      Bosnia-Herzegovina              52         3.4                      5   \n",
      "26               Lithuania              75         2.8                      3   \n",
      "48                 Croatia              54         3.8                      4   \n",
      "60                Slovenia              43         2.1                      2   \n",
      "29   Palestinian Territory              71         5.4                      5   \n",
      "162                  Gabon               6         2.4                      2   \n",
      "\n",
      "     Article_Per_Capita  Quality_Articles_Per_Capita  \n",
      "149          100.000000                    20.000000  \n",
      "73            60.000000                     5.000000  \n",
      "25            29.642857                     2.142857  \n",
      "103           38.333333                     1.666667  \n",
      "50            15.294118                     1.470588  \n",
      "26            26.785714                     1.071429  \n",
      "48            14.210526                     1.052632  \n",
      "60            20.476190                     0.952381  \n",
      "29            13.148148                     0.925926  \n",
      "162            2.500000                     0.833333  \n"
     ]
    }
   ],
   "source": [
    "print(countries.nlargest(10, \"Quality_Articles_Per_Capita\",keep='first'))"
   ]
  },
  {
   "cell_type": "code",
   "execution_count": 9,
   "id": "d70c1151-035a-4823-86c8-cf71fdb6d4f6",
   "metadata": {},
   "outputs": [
    {
     "name": "stdout",
     "output_type": "stream",
     "text": [
      "             Country  Article_Counts  Population  High_Quality_Articles  \\\n",
      "5              Italy             157        58.9                      0   \n",
      "21            Brazil              89       214.8                      0   \n",
      "23           Austria              86         9.0                      0   \n",
      "37          Zimbabwe              63        16.3                      0   \n",
      "39         Venezuela              62        28.3                      0   \n",
      "45        Bangladesh              56       171.2                      0   \n",
      "46            Turkey              56        85.2                      0   \n",
      "47         Argentina              54        46.2                      0   \n",
      "51  Congo, Dem. Rep.              51        99.0                      0   \n",
      "54            Greece              50        10.6                      0   \n",
      "\n",
      "    Article_Per_Capita  Quality_Articles_Per_Capita  \n",
      "5             2.665535                          0.0  \n",
      "21            0.414339                          0.0  \n",
      "23            9.555556                          0.0  \n",
      "37            3.865031                          0.0  \n",
      "39            2.190813                          0.0  \n",
      "45            0.327103                          0.0  \n",
      "46            0.657277                          0.0  \n",
      "47            1.168831                          0.0  \n",
      "51            0.515152                          0.0  \n",
      "54            4.716981                          0.0  \n"
     ]
    }
   ],
   "source": [
    "print(countries.nsmallest(10, \"Quality_Articles_Per_Capita\",keep='first'))"
   ]
  },
  {
   "cell_type": "code",
   "execution_count": 26,
   "id": "285c07d1-4f26-4aed-bc90-1bc86193d9eb",
   "metadata": {},
   "outputs": [
    {
     "name": "stdout",
     "output_type": "stream",
     "text": [
      "            Region  Population\n",
      "0        CARIBBEAN        39.5\n",
      "1  CENTRAL AMERICA       177.9\n",
      "2     CENTRAL ASIA        78.0\n",
      "3        EAST ASIA      1665.8\n",
      "4   EASTERN AFRICA       470.3\n",
      "            Region  Article_Counts  Population  Articles_Per_Capita\n",
      "0        CARIBBEAN             201         0.0                  0.0\n",
      "1  CENTRAL AMERICA             195         0.0                  0.0\n",
      "2     CENTRAL ASIA             106         0.0                  0.0\n",
      "3        EAST ASIA             246         0.0                  0.0\n",
      "4   EASTERN AFRICA             650         0.0                  0.0\n"
     ]
    },
    {
     "name": "stderr",
     "output_type": "stream",
     "text": [
      "C:\\Users\\ecorp\\AppData\\Local\\Temp\\ipykernel_5376\\92639780.py:14: SettingWithCopyWarning: \n",
      "A value is trying to be set on a copy of a slice from a DataFrame.\n",
      "Try using .loc[row_indexer,col_indexer] = value instead\n",
      "\n",
      "See the caveats in the documentation: https://pandas.pydata.org/pandas-docs/stable/user_guide/indexing.html#returning-a-view-versus-a-copy\n",
      "  articlesPerRegion[:i].Population = regionPop\n"
     ]
    },
    {
     "ename": "ValueError",
     "evalue": "Must have equal len keys and value when setting with an iterable",
     "output_type": "error",
     "traceback": [
      "\u001b[1;31m---------------------------------------------------------------------------\u001b[0m",
      "\u001b[1;31mValueError\u001b[0m                                Traceback (most recent call last)",
      "Cell \u001b[1;32mIn [26], line 15\u001b[0m\n\u001b[0;32m     13\u001b[0m     numArticles \u001b[38;5;241m=\u001b[39m articlesPerRegion\u001b[38;5;241m.\u001b[39mloc[i, \u001b[38;5;124m\"\u001b[39m\u001b[38;5;124mArticle_Counts\u001b[39m\u001b[38;5;124m\"\u001b[39m]\n\u001b[0;32m     14\u001b[0m     articlesPerRegion[:i]\u001b[38;5;241m.\u001b[39mPopulation \u001b[38;5;241m=\u001b[39m regionPop\n\u001b[1;32m---> 15\u001b[0m     \u001b[43marticlesPerRegion\u001b[49m\u001b[38;5;241;43m.\u001b[39;49m\u001b[43mloc\u001b[49m\u001b[43m[\u001b[49m\u001b[43m:\u001b[49m\u001b[43mi\u001b[49m\u001b[43m]\u001b[49m \u001b[38;5;241m=\u001b[39m numArticles\u001b[38;5;241m/\u001b[39mregionPop\n\u001b[0;32m     16\u001b[0m \u001b[38;5;28mprint\u001b[39m(articlesPerRegion\u001b[38;5;241m.\u001b[39mhead())\n",
      "File \u001b[1;32m~\\AppData\\Local\\Programs\\Python\\Python310\\lib\\site-packages\\pandas\\core\\indexing.py:819\u001b[0m, in \u001b[0;36m_LocationIndexer.__setitem__\u001b[1;34m(self, key, value)\u001b[0m\n\u001b[0;32m    816\u001b[0m \u001b[38;5;28mself\u001b[39m\u001b[38;5;241m.\u001b[39m_has_valid_setitem_indexer(key)\n\u001b[0;32m    818\u001b[0m iloc \u001b[38;5;241m=\u001b[39m \u001b[38;5;28mself\u001b[39m \u001b[38;5;28;01mif\u001b[39;00m \u001b[38;5;28mself\u001b[39m\u001b[38;5;241m.\u001b[39mname \u001b[38;5;241m==\u001b[39m \u001b[38;5;124m\"\u001b[39m\u001b[38;5;124miloc\u001b[39m\u001b[38;5;124m\"\u001b[39m \u001b[38;5;28;01melse\u001b[39;00m \u001b[38;5;28mself\u001b[39m\u001b[38;5;241m.\u001b[39mobj\u001b[38;5;241m.\u001b[39miloc\n\u001b[1;32m--> 819\u001b[0m \u001b[43miloc\u001b[49m\u001b[38;5;241;43m.\u001b[39;49m\u001b[43m_setitem_with_indexer\u001b[49m\u001b[43m(\u001b[49m\u001b[43mindexer\u001b[49m\u001b[43m,\u001b[49m\u001b[43m \u001b[49m\u001b[43mvalue\u001b[49m\u001b[43m,\u001b[49m\u001b[43m \u001b[49m\u001b[38;5;28;43mself\u001b[39;49m\u001b[38;5;241;43m.\u001b[39;49m\u001b[43mname\u001b[49m\u001b[43m)\u001b[49m\n",
      "File \u001b[1;32m~\\AppData\\Local\\Programs\\Python\\Python310\\lib\\site-packages\\pandas\\core\\indexing.py:1796\u001b[0m, in \u001b[0;36m_iLocIndexer._setitem_with_indexer\u001b[1;34m(self, indexer, value, name)\u001b[0m\n\u001b[0;32m   1793\u001b[0m \u001b[38;5;66;03m# align and set the values\u001b[39;00m\n\u001b[0;32m   1794\u001b[0m \u001b[38;5;28;01mif\u001b[39;00m take_split_path:\n\u001b[0;32m   1795\u001b[0m     \u001b[38;5;66;03m# We have to operate column-wise\u001b[39;00m\n\u001b[1;32m-> 1796\u001b[0m     \u001b[38;5;28;43mself\u001b[39;49m\u001b[38;5;241;43m.\u001b[39;49m\u001b[43m_setitem_with_indexer_split_path\u001b[49m\u001b[43m(\u001b[49m\u001b[43mindexer\u001b[49m\u001b[43m,\u001b[49m\u001b[43m \u001b[49m\u001b[43mvalue\u001b[49m\u001b[43m,\u001b[49m\u001b[43m \u001b[49m\u001b[43mname\u001b[49m\u001b[43m)\u001b[49m\n\u001b[0;32m   1797\u001b[0m \u001b[38;5;28;01melse\u001b[39;00m:\n\u001b[0;32m   1798\u001b[0m     \u001b[38;5;28mself\u001b[39m\u001b[38;5;241m.\u001b[39m_setitem_single_block(indexer, value, name)\n",
      "File \u001b[1;32m~\\AppData\\Local\\Programs\\Python\\Python310\\lib\\site-packages\\pandas\\core\\indexing.py:1880\u001b[0m, in \u001b[0;36m_iLocIndexer._setitem_with_indexer_split_path\u001b[1;34m(self, indexer, value, name)\u001b[0m\n\u001b[0;32m   1877\u001b[0m         \u001b[38;5;28mself\u001b[39m\u001b[38;5;241m.\u001b[39m_setitem_single_column(ilocs[\u001b[38;5;241m0\u001b[39m], value, pi)\n\u001b[0;32m   1879\u001b[0m     \u001b[38;5;28;01melse\u001b[39;00m:\n\u001b[1;32m-> 1880\u001b[0m         \u001b[38;5;28;01mraise\u001b[39;00m \u001b[38;5;167;01mValueError\u001b[39;00m(\n\u001b[0;32m   1881\u001b[0m             \u001b[38;5;124m\"\u001b[39m\u001b[38;5;124mMust have equal len keys and value \u001b[39m\u001b[38;5;124m\"\u001b[39m\n\u001b[0;32m   1882\u001b[0m             \u001b[38;5;124m\"\u001b[39m\u001b[38;5;124mwhen setting with an iterable\u001b[39m\u001b[38;5;124m\"\u001b[39m\n\u001b[0;32m   1883\u001b[0m         )\n\u001b[0;32m   1885\u001b[0m \u001b[38;5;28;01melse\u001b[39;00m:\n\u001b[0;32m   1886\u001b[0m \n\u001b[0;32m   1887\u001b[0m     \u001b[38;5;66;03m# scalar value\u001b[39;00m\n\u001b[0;32m   1888\u001b[0m     \u001b[38;5;28;01mfor\u001b[39;00m loc \u001b[38;5;129;01min\u001b[39;00m ilocs:\n",
      "\u001b[1;31mValueError\u001b[0m: Must have equal len keys and value when setting with an iterable"
     ]
    }
   ],
   "source": [
    "populationPerRegion = countries.groupby(['Region']).agg({'Population': 'sum'}).reset_index()\n",
    "articlesPerRegion = countries.groupby(['Region']).agg({'Article_Counts': 'sum'}).reset_index()\n",
    "\n",
    "articlesPerRegion[\"Population\"] = 0.0\n",
    "articlesPerRegion[\"Articles_Per_Capita\"] = 0.0\n",
    "\n",
    "print(populationPerRegion.head())\n",
    "print(articlesPerRegion.head())\n",
    "\n",
    "for i in range(len(articlesPerRegion)):\n",
    "    region = articlesPerRegion.loc[i, \"Region\"]\n",
    "    regionPop = populationPerRegion.loc[populationPerRegion.Region == region,\"Population\"]\n",
    "    numArticles = articlesPerRegion.loc[i, \"Article_Counts\"]\n",
    "    articlesPerRegion[:i].Population = regionPop\n",
    "    articlesPerRegion.loc[:i] = numArticles/regionPop\n",
    "print(articlesPerRegion.head())"
   ]
  },
  {
   "cell_type": "raw",
   "id": "e1576fb5-14ad-466f-97ae-be7c99ba2878",
   "metadata": {},
   "source": []
  }
 ],
 "metadata": {
  "kernelspec": {
   "display_name": "Python 3 (ipykernel)",
   "language": "python",
   "name": "python3"
  },
  "language_info": {
   "codemirror_mode": {
    "name": "ipython",
    "version": 3
   },
   "file_extension": ".py",
   "mimetype": "text/x-python",
   "name": "python",
   "nbconvert_exporter": "python",
   "pygments_lexer": "ipython3",
   "version": "3.10.8"
  }
 },
 "nbformat": 4,
 "nbformat_minor": 5
}
